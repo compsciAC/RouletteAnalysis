{
 "cells": [
  {
   "cell_type": "code",
   "execution_count": null,
   "id": "21f5efaa",
   "metadata": {},
   "outputs": [],
   "source": [
    "import random\n",
    "import numpy as np\n",
    "import matplotlib.pyplot as plt"
   ]
  },
  {
   "cell_type": "code",
   "execution_count": null,
   "id": "dd9b9643",
   "metadata": {},
   "outputs": [],
   "source": [
    "def game():\n",
    "    result = random.randint(0, 37)\n",
    "    return result"
   ]
  },
  {
   "cell_type": "code",
   "execution_count": null,
   "id": "5f4f2d2e",
   "metadata": {},
   "outputs": [],
   "source": [
    "def redOrBlack(result):\n",
    "    if(result == 0):\n",
    "        colour = \"Green\"\n",
    "    elif(result % 2 == 0):\n",
    "        colour = \"Black\"\n",
    "    else:\n",
    "        colour = \"Red\"\n",
    "    return colour"
   ]
  },
  {
   "cell_type": "code",
   "execution_count": null,
   "id": "9728597e",
   "metadata": {},
   "outputs": [],
   "source": []
  }
 ],
 "metadata": {
  "kernelspec": {
   "display_name": "Python 3 (ipykernel)",
   "language": "python",
   "name": "python3"
  },
  "language_info": {
   "codemirror_mode": {
    "name": "ipython",
    "version": 3
   },
   "file_extension": ".py",
   "mimetype": "text/x-python",
   "name": "python",
   "nbconvert_exporter": "python",
   "pygments_lexer": "ipython3",
   "version": "3.10.4"
  }
 },
 "nbformat": 4,
 "nbformat_minor": 5
}
